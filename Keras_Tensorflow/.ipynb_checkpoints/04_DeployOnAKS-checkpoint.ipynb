{
 "cells": [
  {
   "cell_type": "markdown",
   "metadata": {},
   "source": [
    "# Deploying a web service to Azure Kubernetes Service (AKS)\n",
    "\n",
    "In this notebook, we show the following steps for deploying a web service using AML:\n",
    "\n",
    "- Provision an AKS cluster (one time action)\n",
    "- Deploy the service\n",
    "- Test the web service"
   ]
  },
  {
   "cell_type": "code",
   "execution_count": null,
   "metadata": {},
   "outputs": [],
   "source": [
    "import json\n",
    "import subprocess\n",
    "\n",
    "import matplotlib.pyplot as plt\n",
    "import requests\n",
    "from azureml.core.compute import AksCompute, ComputeTarget\n",
    "from azureml.core.webservice import Webservice, AksWebservice\n",
    "from dotenv import set_key, get_key, find_dotenv\n",
    "from testing_utilities import read_image_from\n",
    "from testing_utilities import to_img, get_auth\n",
    "#from MetricsUtils.hpStatisticsCollection import statisticsCollector, CollectionEntry\n"
   ]
  },
  {
   "cell_type": "code",
   "execution_count": null,
   "metadata": {},
   "outputs": [],
   "source": [
    "env_path = find_dotenv(raise_error_if_not_found=True)"
   ]
  },
  {
   "cell_type": "code",
   "execution_count": null,
   "metadata": {},
   "outputs": [],
   "source": [
    "image_name = get_key(env_path, \"image_name\")"
   ]
  },
  {
   "cell_type": "code",
   "execution_count": null,
   "metadata": {
    "tags": [
     "parameters"
    ]
   },
   "outputs": [],
   "source": [
    "aks_service_name = \"YOUR_AKS_SERVICE_NAME\"\n",
    "aks_name = \"YOUR_AKS_NAME\"\n",
    "aks_location = \"YOUR_AKS_LOCATION\""
   ]
  },
  {
   "cell_type": "code",
   "execution_count": null,
   "metadata": {},
   "outputs": [],
   "source": [
    "set_key(env_path, \"aks_service_name\", aks_service_name)\n",
    "set_key(env_path, \"aks_name\", aks_name)\n",
    "set_key(env_path, \"aks_location\", aks_location)"
   ]
  },
  {
   "cell_type": "markdown",
   "metadata": {},
   "source": [
    "<a id='get_workspace'></a>\n",
    "## Get workspace\n",
    "Load existing workspace from the config file info."
   ]
  },
  {
   "cell_type": "code",
   "execution_count": null,
   "metadata": {},
   "outputs": [],
   "source": [
    "from azureml.core.workspace import Workspace\n",
    "\n",
    "ws = Workspace.from_config(auth=get_auth())\n",
    "print(ws.name, ws.resource_group, ws.location, ws.subscription_id, sep=\"\\n\")"
   ]
  },
  {
   "cell_type": "markdown",
   "metadata": {},
   "source": [
    "Restore the statistics data."
   ]
  },
  {
   "cell_type": "code",
   "execution_count": null,
   "metadata": {},
   "outputs": [],
   "source": [
    "storageConnString = get_key(env_path, \"storage_conn_string\")\n",
    "statisticsCollector.hydrateFromStorage(storageConnString)"
   ]
  },
  {
   "cell_type": "markdown",
   "metadata": {},
   "source": [
    "<a id='provision_cluster'></a>\n",
    "## Provision the AKS Cluster¶\n",
    "This is a one time setup. You can reuse this cluster for multiple deployments after it has been created. If you delete the cluster or the resource group that contains it, then you would have to recreate it. Let's first check if there are enough cores in the subscription for the cluster."
   ]
  },
  {
   "cell_type": "code",
   "execution_count": null,
   "metadata": {},
   "outputs": [],
   "source": [
    "vm_dict = {\"NC\": {\"size\": \"Standard_NC6\", \"cores\": 6}}"
   ]
  },
  {
   "cell_type": "code",
   "execution_count": null,
   "metadata": {},
   "outputs": [],
   "source": [
    "vm_family = \"NC\"\n",
    "node_count = 3  # We need to have a minimum of 3 nodes\n",
    "requested_cores = node_count * vm_dict[vm_family][\"cores\"]"
   ]
  },
  {
   "cell_type": "code",
   "execution_count": null,
   "metadata": {},
   "outputs": [],
   "source": [
    "results = subprocess.run(\n",
    "    [\n",
    "        \"az\",\n",
    "        \"vm\",\n",
    "        \"list-usage\",\n",
    "        \"--location\",\n",
    "        get_key(env_path, \"aks_location\"),\n",
    "        \"--query\",\n",
    "        \"[?contains(localName, '%s')].{max:limit, current:currentValue}\" % (vm_family),\n",
    "    ],\n",
    "    stdout=subprocess.PIPE,\n",
    ")\n",
    "print(results.stdout.decode(\"utf-8\"))\n",
    "quota = json.loads(\"\".join(results.stdout.decode(\"utf-8\")))\n",
    "diff = int(quota[0][\"max\"]) - int(quota[0][\"current\"])"
   ]
  },
  {
   "cell_type": "code",
   "execution_count": null,
   "metadata": {},
   "outputs": [],
   "source": [
    "if diff <= requested_cores:\n",
    "    print(\n",
    "        \"Not enough cores of NC6 in region, asking for {} but have {}\".format(\n",
    "            requested_cores, diff\n",
    "        )\n",
    "    )\n",
    "    raise Exception(\"Core Limit\", \"Note enough cores to satisfy request\")\n",
    "print(\"There are enough cores, you may continue...\")"
   ]
  },
  {
   "cell_type": "code",
   "execution_count": null,
   "metadata": {
    "pycharm": {
     "name": "#%%\n"
    }
   },
   "outputs": [],
   "source": [
    "%%time\n",
    "from azureml.core.compute_target import ComputeTargetException\n",
    "\n",
    "# Provision AKS cluster with GPU machine\n",
    "prov_config = AksCompute.provisioning_configuration(vm_size=\"Standard_NC6\")\n",
    "statisticsCollector.startTask(CollectionEntry.AML_COMPUTE_CREATION)\n",
    "\n",
    "def create_and_wait(retry_count):\n",
    "    # Create the cluster, retry if failed.\n",
    "    try: \n",
    "        aks_target = ComputeTarget.create(\n",
    "            workspace=ws, name=aks_name + str(retry_count), provisioning_configuration=prov_config\n",
    "        )\n",
    "        \n",
    "        aks_target.wait_for_completion(show_output=True)\n",
    "        print(aks_target.provisioning_state)\n",
    "        print(aks_target.provisioning_errors)\n",
    "        return {'succeeded': True, 'aks_target': aks_target}\n",
    "    except ComputeTargetException as ex:\n",
    "        print(ex)\n",
    "        return {'succeeded': False, 'aks_target': None}\n",
    "\n",
    "def retry_func(func, retry_count=0):\n",
    "    succeeded = False\n",
    "    result = {}\n",
    "    while not succeeded:        \n",
    "        if retry_count < 1: # Retry 1 time\n",
    "            result = func(retry_count)\n",
    "            succeeded = result['succeeded']\n",
    "        else:\n",
    "            raise Exception(\"Tried to create AKS 3 times and failed!\")\n",
    "        retry_count += 1\n",
    "        print(\"Retry: \" + str(retry_count))\n",
    "    return result['aks_target']\n",
    "        \n",
    "aks_target = retry_func(create_and_wait)\n",
    "\n",
    "statisticsCollector.endTask(CollectionEntry.AML_COMPUTE_CREATION)\n",
    "print(statisticsCollector.getEntry(CollectionEntry.AML_COMPUTE_CREATION))"
   ]
  },
  {
   "cell_type": "code",
   "execution_count": null,
   "metadata": {},
   "outputs": [],
   "source": [
    "# Attach an existing AKS cluster\n",
    "\n",
    "# attach_config = AksCompute.attach_configuration(resource_group=ws.resource_group,\n",
    "#                                                cluster_name='deployaks')\n",
    "# aks_target = ComputeTarget.attach(ws, aks_name, attach_config)\n",
    "# aks_target.wait_for_completion(True)"
   ]
  },
  {
   "cell_type": "code",
   "execution_count": null,
   "metadata": {},
   "outputs": [],
   "source": [
    "# Execute following commands if you want to delete an AKS cluster\n",
    "# aks_target = AksCompute(name=aks_name,workspace=ws)\n",
    "# aks_target.delete()"
   ]
  },
  {
   "cell_type": "markdown",
   "metadata": {},
   "source": [
    "<a id='deploy_ws'></a>\n",
    "## Deploy web service to AKS¶"
   ]
  },
  {
   "cell_type": "code",
   "execution_count": null,
   "metadata": {},
   "outputs": [],
   "source": [
    "# Deploy web service to AKS\n",
    "# Set the web service configuration (using customized configuration)\n",
    "aks_config = AksWebservice.deploy_configuration(autoscale_enabled=False, num_replicas=node_count)"
   ]
  },
  {
   "cell_type": "code",
   "execution_count": null,
   "metadata": {},
   "outputs": [],
   "source": [
    "# get the image built in previous notebook\n",
    "image = ws.images[image_name]"
   ]
  },
  {
   "cell_type": "code",
   "execution_count": null,
   "metadata": {},
   "outputs": [],
   "source": [
    "aks_service_name"
   ]
  },
  {
   "cell_type": "code",
   "execution_count": null,
   "metadata": {},
   "outputs": [],
   "source": [
    "aks_service = Webservice.deploy_from_image(\n",
    "    workspace=ws,\n",
    "    name=aks_service_name,\n",
    "    image=image,\n",
    "    deployment_config=aks_config,\n",
    "    deployment_target=aks_target,\n",
    ")"
   ]
  },
  {
   "cell_type": "code",
   "execution_count": null,
   "metadata": {},
   "outputs": [],
   "source": [
    "%%time\n",
    "aks_service.wait_for_deployment(show_output=True)\n",
    "print(aks_service.state)"
   ]
  },
  {
   "cell_type": "code",
   "execution_count": null,
   "metadata": {},
   "outputs": [],
   "source": [
    "### debug\n",
    "# aks_service.error\n",
    "# aks_service.get_logs()\n",
    "\n",
    "# Excute following commands if you want to delete a web service\n",
    "# s =  Webservice(ws, aks_service_name)\n",
    "# s.delete()"
   ]
  },
  {
   "cell_type": "markdown",
   "metadata": {},
   "source": [
    "Write the URI and key to the statistics tracker."
   ]
  },
  {
   "cell_type": "code",
   "execution_count": null,
   "metadata": {},
   "outputs": [],
   "source": [
    "scoring_url = aks_service.scoring_uri\n",
    "api_key = aks_service.get_keys()[0]"
   ]
  },
  {
   "cell_type": "code",
   "execution_count": null,
   "metadata": {},
   "outputs": [],
   "source": [
    "statisticsCollector.addEntry(CollectionEntry.AKS_REALTIME_ENDPOINT, scoring_url)\n",
    "statisticsCollector.addEntry(CollectionEntry.AKS_REALTIME_KEY, api_key)"
   ]
  },
  {
   "cell_type": "markdown",
   "metadata": {},
   "source": [
    "<a id='test_ws'></a>\n",
    "## Test Web Service¶\n",
    "We test the web sevice by passing data."
   ]
  },
  {
   "cell_type": "code",
   "execution_count": null,
   "metadata": {},
   "outputs": [],
   "source": [
    "IMAGEURL = \"https://bostondata.blob.core.windows.net/aksdeploymenttutorialaml/220px-Lynx_lynx_poing.jpg\"\n",
    "plt.imshow(to_img(IMAGEURL))"
   ]
  },
  {
   "cell_type": "code",
   "execution_count": null,
   "metadata": {},
   "outputs": [],
   "source": [
    "service_keys = aks_service.get_keys()\n",
    "headers = {}\n",
    "headers[\"Authorization\"] = \"Bearer \" + service_keys[0]"
   ]
  },
  {
   "cell_type": "code",
   "execution_count": null,
   "metadata": {},
   "outputs": [],
   "source": [
    "resp = requests.post(\n",
    "    aks_service.scoring_uri,\n",
    "    headers=headers,\n",
    "    files={\"image\": read_image_from(IMAGEURL).read()},\n",
    ")"
   ]
  },
  {
   "cell_type": "code",
   "execution_count": null,
   "metadata": {},
   "outputs": [],
   "source": [
    "print(resp.json())"
   ]
  },
  {
   "cell_type": "markdown",
   "metadata": {},
   "source": [
    "Save the statistics collected so far."
   ]
  },
  {
   "cell_type": "code",
   "execution_count": null,
   "metadata": {},
   "outputs": [],
   "source": [
    "statisticsCollector.uploadContent(storageConnString)"
   ]
  },
  {
   "cell_type": "markdown",
   "metadata": {},
   "source": [
    "Having deplied web service succesfully, we can now move on to [Test Web app](05_TestWebApp.ipynb)."
   ]
  }
 ],
 "metadata": {
  "celltoolbar": "Tags",
  "jupytext": {
   "formats": "ipynb"
  },
  "kernelspec": {
   "display_name": "deployment_aml",
   "language": "python",
   "name": "conda-env-deployment_aml-py"
  },
  "language_info": {
   "codemirror_mode": {
    "name": "ipython",
    "version": 3
   },
   "file_extension": ".py",
   "mimetype": "text/x-python",
   "name": "python",
   "nbconvert_exporter": "python",
   "pygments_lexer": "ipython3",
   "version": "3.6.10"
  },
  "pycharm": {
   "stem_cell": {
    "cell_type": "raw",
    "metadata": {
     "collapsed": false
    },
    "source": []
   }
  }
 },
 "nbformat": 4,
 "nbformat_minor": 2
}
