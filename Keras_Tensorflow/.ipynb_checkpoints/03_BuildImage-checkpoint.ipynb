{
 "cells": [
  {
   "cell_type": "markdown",
   "metadata": {},
   "source": [
    "# Build Image\n",
    "\n",
    "In this notebook, we show the following steps for deploying a web service using AML:\n",
    "\n",
    "- Create an image\n",
    "- Test image locally\n"
   ]
  },
  {
   "cell_type": "code",
   "execution_count": null,
   "metadata": {},
   "outputs": [],
   "source": [
    "import docker\n",
    "import matplotlib.pyplot as plt\n",
    "import numpy as np\n",
    "import requests\n",
    "from azure.mgmt.containerregistry import ContainerRegistryManagementClient\n",
    "from azureml.core.model import Model\n",
    "from azureml._model_management._util import (get_docker_client, pull_docker_image)\n",
    "from azureml.core.conda_dependencies import CondaDependencies\n",
    "from azureml.core.image import ContainerImage\n",
    "from dotenv import get_key, find_dotenv\n",
    "from testing_utilities import to_img, plot_predictions, get_auth, wait_until_ready\n"
   ]
  },
  {
   "cell_type": "code",
   "execution_count": null,
   "metadata": {},
   "outputs": [],
   "source": [
    "env_path = find_dotenv(raise_error_if_not_found=True)"
   ]
  },
  {
   "cell_type": "code",
   "execution_count": null,
   "metadata": {},
   "outputs": [],
   "source": [
    "resource_group = get_key(env_path, 'resource_group')\n",
    "model_name = 'resnet_model'\n",
    "image_name = get_key(env_path, 'image_name')"
   ]
  },
  {
   "cell_type": "markdown",
   "metadata": {},
   "source": [
    "## Get workspace\n",
    "Load existing workspace from the config file info."
   ]
  },
  {
   "cell_type": "code",
   "execution_count": null,
   "metadata": {},
   "outputs": [],
   "source": [
    "from azureml.core.workspace import Workspace\n",
    "\n",
    "ws = Workspace.from_config(auth=get_auth())\n",
    "print(ws.name, ws.resource_group, ws.location, ws.subscription_id, sep = '\\n')"
   ]
  },
  {
   "cell_type": "markdown",
   "metadata": {},
   "source": [
    "## Create Image"
   ]
  },
  {
   "cell_type": "code",
   "execution_count": null,
   "metadata": {},
   "outputs": [],
   "source": [
    "# create yml file to be used in the image\n",
    "conda_pack = [\"tensorflow-gpu==1.14.0\"]\n",
    "requirements = [\"keras==2.2.0\",\"Pillow==5.2.0\", \"azureml-defaults\", \"azureml-contrib-services\" ,\"toolz==0.9.0\"] \n",
    "\n",
    "imgenv = CondaDependencies.create(conda_packages=conda_pack,pip_packages=requirements)\n",
    "with open(\"img_env.yml\", \"w\") as f:\n",
    "    f.write(imgenv.serialize_to_string())"
   ]
  },
  {
   "cell_type": "code",
   "execution_count": null,
   "metadata": {
    "lines_to_next_cell": 2
   },
   "outputs": [],
   "source": [
    "\n",
    "image_config = ContainerImage.image_configuration(execution_script = \"driver.py\",\n",
    "                                                  runtime = \"python\",\n",
    "                                                  conda_file = \"img_env.yml\",\n",
    "                                                  description = \"Image for AKS Deployment Tutorial\",\n",
    "                                                  tags = {\"name\":\"AKS\",\"project\":\"AML\"}, \n",
    "                                                  dependencies = [\"resnet152.py\"],\n",
    "                                                  enable_gpu = True\n",
    "                                                 )\n"
   ]
  },
  {
   "cell_type": "code",
   "execution_count": null,
   "metadata": {},
   "outputs": [],
   "source": [
    "# create image. It may take upto 15-20 minutes. \n",
    "image = ContainerImage.create(name = image_name,\n",
    "                              # this is the model object\n",
    "                              models = [ws.models[model_name]],                              \n",
    "                              image_config = image_config,\n",
    "                              workspace = ws)\n",
    "\n",
    "image.wait_for_creation(show_output = True)"
   ]
  },
  {
   "cell_type": "code",
   "execution_count": null,
   "metadata": {},
   "outputs": [],
   "source": [
    "# You can find the logs of image creation\n",
    "# image.image_build_log_uri\n",
    "\n",
    "# You can get the image object when not creating a new image\n",
    "# image = ws.images['image1']"
   ]
  },
  {
   "cell_type": "markdown",
   "metadata": {},
   "source": [
    "## Test image locally\n",
    "- Pull the image from ACR registry to local host \n",
    "- Start a container\n",
    "- Test API call"
   ]
  },
  {
   "cell_type": "code",
   "execution_count": null,
   "metadata": {},
   "outputs": [],
   "source": [
    "ws = Workspace.from_config(auth=get_auth())\n",
    "# Getting your container details\n",
    "container_reg = ws.get_details()[\"containerRegistry\"]\n",
    "reg_name=container_reg.split(\"/\")[-1]\n",
    "container_url = \"\\\"\" + image.image_location + \"\\\",\"\n",
    "subscription_id = ws.subscription_id\n",
    "\n",
    "client = ContainerRegistryManagementClient(ws._auth,subscription_id)\n",
    "result= client.registries.list_credentials(resource_group, reg_name, custom_headers=None, raw=False)\n",
    "username = result.username\n",
    "password = result.passwords[0].value\n",
    "print('ContainerURL:{}'.format(image.image_location))\n",
    "print('Servername: {}'.format(reg_name))\n",
    "print('Username: {}'.format(username))\n",
    "print('Password: {}'.format(password))"
   ]
  },
  {
   "cell_type": "code",
   "execution_count": null,
   "metadata": {},
   "outputs": [],
   "source": [
    "dc = get_docker_client()"
   ]
  },
  {
   "cell_type": "code",
   "execution_count": null,
   "metadata": {},
   "outputs": [],
   "source": [
    "pull_docker_image(dc, image.image_location, username, password)"
   ]
  },
  {
   "cell_type": "code",
   "execution_count": null,
   "metadata": {},
   "outputs": [],
   "source": [
    "# make sure port 80 is not occupied\n",
    "container_labels = {'containerName': 'kerasgpu'}\n",
    "container = dc.containers.run(image.image_location, \n",
    "                                         detach=True, \n",
    "                                         ports={'5001/tcp': 80},\n",
    "                                         labels=container_labels,\n",
    "                                         runtime='nvidia' )"
   ]
  },
  {
   "cell_type": "code",
   "execution_count": null,
   "metadata": {},
   "outputs": [],
   "source": [
    "for log_msg in container.logs(stream=True):\n",
    "    str_msg = log_msg.decode('UTF8')\n",
    "    print(str_msg)\n",
    "    if \"Model loading time:\" in str_msg:\n",
    "        print('Model loaded and container ready')\n",
    "        break"
   ]
  },
  {
   "cell_type": "code",
   "execution_count": null,
   "metadata": {},
   "outputs": [],
   "source": [
    "client = docker.APIClient()\n",
    "details = client.inspect_container(container.id)"
   ]
  },
  {
   "cell_type": "code",
   "execution_count": null,
   "metadata": {},
   "outputs": [],
   "source": [
    "service_ip = details['NetworkSettings']['Ports']['5001/tcp'][0]['HostIp']\n",
    "service_port = details['NetworkSettings']['Ports']['5001/tcp'][0]['HostPort']"
   ]
  },
  {
   "cell_type": "markdown",
   "metadata": {},
   "source": [
    "Wait a few seconds for the application to spin up and then check that everything works."
   ]
  },
  {
   "cell_type": "code",
   "execution_count": null,
   "metadata": {},
   "outputs": [],
   "source": [
    "print('Checking service on {} port {}'.format(service_ip, service_port))"
   ]
  },
  {
   "cell_type": "code",
   "execution_count": null,
   "metadata": {},
   "outputs": [],
   "source": [
    "endpoint=\"http://__service_ip:__service_port\"\n",
    "endpoint = endpoint.replace('__service_ip', service_ip)\n",
    "endpoint = endpoint.replace('__service_port', service_port)\n",
    "\n",
    "max_attempts = 50\n",
    "output_str = wait_until_ready(endpoint, max_attempts)\n",
    "print(output_str)"
   ]
  },
  {
   "cell_type": "code",
   "execution_count": null,
   "metadata": {},
   "outputs": [],
   "source": [
    "!curl 'http://{service_ip}:{service_port}/'"
   ]
  },
  {
   "cell_type": "code",
   "execution_count": null,
   "metadata": {},
   "outputs": [],
   "source": [
    "IMAGEURL = \"https://bostondata.blob.core.windows.net/aksdeploymenttutorialaml/220px-Lynx_lynx_poing.jpg\""
   ]
  },
  {
   "cell_type": "code",
   "execution_count": null,
   "metadata": {},
   "outputs": [],
   "source": [
    "plt.imshow(to_img(IMAGEURL))"
   ]
  },
  {
   "cell_type": "code",
   "execution_count": null,
   "metadata": {},
   "outputs": [],
   "source": [
    "with open('220px-Lynx_lynx_poing.jpg', 'rb') as f:\n",
    "    img_data = f.read()"
   ]
  },
  {
   "cell_type": "code",
   "execution_count": null,
   "metadata": {},
   "outputs": [],
   "source": [
    "%time r = requests.post('http://0.0.0.0:80/score', files={'image': img_data})\n",
    "print(r)\n",
    "r.json()"
   ]
  },
  {
   "cell_type": "code",
   "execution_count": null,
   "metadata": {},
   "outputs": [],
   "source": [
    "images = (\n",
    "    \"https://bostondata.blob.core.windows.net/aksdeploymenttutorialaml/220px-Lynx_lynx_poing.jpg\",\n",
    "    \"https://bostondata.blob.core.windows.net/aksdeploymenttutorialaml/Roadster_2.5_windmills_trimmed.jpg\",\n",
    "    \"https://bostondata.blob.core.windows.net/aksdeploymenttutorialaml/Harmony_of_the_Seas_(ship,_2016)_001.jpg\",\n",
    ")"
   ]
  },
  {
   "cell_type": "code",
   "execution_count": null,
   "metadata": {},
   "outputs": [],
   "source": [
    "from testing_utilities import read_image_from"
   ]
  },
  {
   "cell_type": "code",
   "execution_count": null,
   "metadata": {},
   "outputs": [],
   "source": [
    "url = \"http://0.0.0.0:80/score\"\n",
    "results = [\n",
    "    requests.post(url, files={'image': read_image_from(img).read()}) for img in images\n",
    "]"
   ]
  },
  {
   "cell_type": "code",
   "execution_count": null,
   "metadata": {},
   "outputs": [],
   "source": [
    "plot_predictions(images, results)"
   ]
  },
  {
   "cell_type": "code",
   "execution_count": null,
   "metadata": {},
   "outputs": [],
   "source": [
    "image_data = list(map(lambda img: read_image_from(img).read(), images)) # Retrieve the images and data"
   ]
  },
  {
   "cell_type": "code",
   "execution_count": null,
   "metadata": {},
   "outputs": [],
   "source": [
    "timer_results = list()\n",
    "for img in image_data:\n",
    "    res=%timeit -r 1 -o -q requests.post(url, files={'image': img})\n",
    "    timer_results.append(res.best)"
   ]
  },
  {
   "cell_type": "code",
   "execution_count": null,
   "metadata": {},
   "outputs": [],
   "source": [
    "timer_results"
   ]
  },
  {
   "cell_type": "code",
   "execution_count": null,
   "metadata": {},
   "outputs": [],
   "source": [
    "print(\"Average time taken: {0:4.2f} ms\".format(10 ** 3 * np.mean(timer_results)))"
   ]
  },
  {
   "cell_type": "code",
   "execution_count": null,
   "metadata": {},
   "outputs": [],
   "source": [
    "container.stop()"
   ]
  },
  {
   "cell_type": "code",
   "execution_count": null,
   "metadata": {},
   "outputs": [],
   "source": [
    "# remove stopped container\n",
    "!docker system prune -f"
   ]
  },
  {
   "cell_type": "markdown",
   "metadata": {},
   "source": [
    "We can now move on to [Create kubenetes cluster and deploy web service](04_DeployOnAKS.ipynb) with the image we just built."
   ]
  }
 ],
 "metadata": {
  "celltoolbar": "Tags",
  "jupytext": {
   "formats": "ipynb"
  },
  "kernelspec": {
   "display_name": "deployment_aml",
   "language": "python",
   "name": "conda-env-deployment_aml-py"
  },
  "language_info": {
   "codemirror_mode": {
    "name": "ipython",
    "version": 3
   },
   "file_extension": ".py",
   "mimetype": "text/x-python",
   "name": "python",
   "nbconvert_exporter": "python",
   "pygments_lexer": "ipython3",
   "version": "3.6.10"
  }
 },
 "nbformat": 4,
 "nbformat_minor": 2
}
